{
  "nbformat": 4,
  "nbformat_minor": 0,
  "metadata": {
    "colab": {
      "name": "ActividadPyton.ipynb",
      "provenance": [],
      "collapsed_sections": [],
      "authorship_tag": "ABX9TyM4cEjBezUiLnlehFpBNs9J",
      "include_colab_link": true
    },
    "kernelspec": {
      "name": "python3",
      "display_name": "Python 3"
    }
  },
  "cells": [
    {
      "cell_type": "markdown",
      "metadata": {
        "id": "view-in-github",
        "colab_type": "text"
      },
      "source": [
        "<a href=\"https://colab.research.google.com/github/AlejandroRad/AlejandroRad.github.io/blob/master/ActividadPyton.ipynb\" target=\"_parent\"><img src=\"https://colab.research.google.com/assets/colab-badge.svg\" alt=\"Open In Colab\"/></a>"
      ]
    },
    {
      "cell_type": "markdown",
      "metadata": {
        "id": "4KTE8BFXNgN1"
      },
      "source": [
        "Creacion de variables de python e impresion en pantalla."
      ]
    },
    {
      "cell_type": "code",
      "metadata": {
        "colab": {
          "base_uri": "https://localhost:8080/"
        },
        "id": "e7G7iyWYNv1T",
        "outputId": "dc20b7e5-dc5b-4eb4-a67a-a4d4d230fecb"
      },
      "source": [
        "x = 5\n",
        "print(\"El valor de x es: \", x)\n",
        "y = x + 3\n",
        "print(\"El valor de y es: \", y)"
      ],
      "execution_count": 2,
      "outputs": [
        {
          "output_type": "stream",
          "text": [
            "El valor de x es:  5\n",
            "El valor de y es:  8\n"
          ],
          "name": "stdout"
        }
      ]
    },
    {
      "cell_type": "markdown",
      "metadata": {
        "id": "QaWTXpRyPo2b"
      },
      "source": [
        "Lectura de datos\n"
      ]
    },
    {
      "cell_type": "code",
      "metadata": {
        "colab": {
          "base_uri": "https://localhost:8080/"
        },
        "id": "fmJITKbnPs5h",
        "outputId": "985d2cb0-deb5-46e4-880b-3a7b619b6ae0"
      },
      "source": [
        "a = input(\"Ingrese el primer número: \")\n",
        "print( \"El numero ingresado es: \", a )\n",
        "print(type (a))\n"
      ],
      "execution_count": 4,
      "outputs": [
        {
          "output_type": "stream",
          "text": [
            "Ingrese el primer número: 23\n",
            "El numero ingresado es:  23\n",
            "<class 'str'>\n"
          ],
          "name": "stdout"
        }
      ]
    },
    {
      "cell_type": "markdown",
      "metadata": {
        "id": "YKMnOIJLQ8S5"
      },
      "source": [
        "cast en la lectura de datos"
      ]
    },
    {
      "cell_type": "code",
      "metadata": {
        "colab": {
          "base_uri": "https://localhost:8080/"
        },
        "id": "V7Z-G7cTQ_fo",
        "outputId": "d4b5c15d-a775-450b-8ee8-16e318985bd8"
      },
      "source": [
        "a = float( input(\"Ingrese un número: \"))\n",
        "print(a,type(a))"
      ],
      "execution_count": 5,
      "outputs": [
        {
          "output_type": "stream",
          "text": [
            "Ingrese un número: 8\n",
            "8.0 <class 'float'>\n"
          ],
          "name": "stdout"
        }
      ]
    },
    {
      "cell_type": "markdown",
      "metadata": {
        "id": "4lpIETZ7R9cG"
      },
      "source": [
        "Operadores aritméticos"
      ]
    },
    {
      "cell_type": "code",
      "metadata": {
        "colab": {
          "base_uri": "https://localhost:8080/"
        },
        "id": "dW6fnLo0SA5B",
        "outputId": "fe8fe6bf-abdc-4c55-a3ee-8cd3236a96ed"
      },
      "source": [
        "a = float(input(\"Ingrese el primer numero: \"))\n",
        "b = float(input(\"Ingrese el segundo numero: \"))\n",
        "print(\"A es igual: \", a)\n",
        "print(\"B es igual: \", b)\n",
        "print( \"Suma: \", a + b)\n",
        "print( \"Resta: \", a - b)\n",
        "print( \"Producto: \", a * b)\n",
        "print( \"División: \", a / b)\n",
        "print( \"Potencia: \", a ** b)\n",
        "print( \"División entera: \", a // b)\n",
        "print( \"Módulo o residuo: \", a % b)"
      ],
      "execution_count": 9,
      "outputs": [
        {
          "output_type": "stream",
          "text": [
            "Ingrese el primer numero: 5\n",
            "Ingrese el segundo numero: 2\n",
            "A es igual:  5.0\n",
            "B es igual:  2.0\n",
            "Suma:  7.0\n",
            "Resta:  3.0\n",
            "Producto:  10.0\n",
            "División:  2.5\n",
            "Potencia:  25.0\n",
            "División entera:  2.0\n",
            "Módulo o residuo:  1.0\n"
          ],
          "name": "stdout"
        }
      ]
    },
    {
      "cell_type": "markdown",
      "metadata": {
        "id": "RTmkMHJUUWLz"
      },
      "source": [
        "Variables de tipo lógico (booleanos)"
      ]
    },
    {
      "cell_type": "code",
      "metadata": {
        "colab": {
          "base_uri": "https://localhost:8080/"
        },
        "id": "QUWE-17MUbsC",
        "outputId": "7d20d2d1-dcb4-42bc-c261-91eefde00f74"
      },
      "source": [
        "#True o False\n",
        "existe = True\n",
        "encontro = False\n",
        "print(existe, type(existe))\n",
        "print(encontro, type(encontro))\n",
        "\n",
        "res1 = existe and encontro\n",
        "res2 = existe or encontro\n",
        "print(res1)\n",
        "print(res2)\n",
        "\n",
        "res3 = 4 > 3\n",
        "print(res3)"
      ],
      "execution_count": 12,
      "outputs": [
        {
          "output_type": "stream",
          "text": [
            "True <class 'bool'>\n",
            "False <class 'bool'>\n",
            "False\n",
            "True\n",
            "True\n"
          ],
          "name": "stdout"
        }
      ]
    },
    {
      "cell_type": "markdown",
      "metadata": {
        "id": "bTW5fpoaV8lU"
      },
      "source": [
        "Operadores relacionales"
      ]
    },
    {
      "cell_type": "code",
      "metadata": {
        "colab": {
          "base_uri": "https://localhost:8080/"
        },
        "id": "F2V7u5ulV_Vp",
        "outputId": "7127c858-9721-40ad-9d88-e1ac40cd236b"
      },
      "source": [
        "a = 5 \n",
        "b = 2 \n",
        "print(\"a > b: \", a > b)\n",
        "print(\"a < b: \", a < b)\n",
        "print(\"a >= b: \", a >= b)\n",
        "print(\"a <= b: \", a <= b)\n",
        "print(\"a == b: \", a == b)\n",
        "print(\"a != b: \", a != b)\n",
        "\n"
      ],
      "execution_count": 13,
      "outputs": [
        {
          "output_type": "stream",
          "text": [
            "a > b:  True\n",
            "a < b:  False\n",
            "a >= b:  True\n",
            "a <= b:  False\n",
            "a == b:  False\n",
            "a != b:  True\n"
          ],
          "name": "stdout"
        }
      ]
    },
    {
      "cell_type": "markdown",
      "metadata": {
        "id": "hcDgiBSoWo_A"
      },
      "source": [
        "Instrucciones condicionales Simples y dobles"
      ]
    },
    {
      "cell_type": "code",
      "metadata": {
        "colab": {
          "base_uri": "https://localhost:8080/"
        },
        "id": "s4RSrwx8Wr6A",
        "outputId": "9ba53b2d-b47c-4d76-afb3-2a7a07d9154b"
      },
      "source": [
        "edad = int(input(\"Ingrese su edad: \"))\n",
        "\n",
        "#La identacion es fundamental en python\n",
        "if(edad >= 18):\n",
        "  print(\"Usted es amyor de edad: \", edad, \"años\")\n",
        "else:\n",
        "  print(\"Usted es menor de edad\")"
      ],
      "execution_count": 21,
      "outputs": [
        {
          "output_type": "stream",
          "text": [
            "Ingrese su edad: 6\n",
            "Usted es menor de edad\n"
          ],
          "name": "stdout"
        }
      ]
    },
    {
      "cell_type": "markdown",
      "metadata": {
        "id": "uPN0QHrNYOJo"
      },
      "source": [
        "Instrucciones condicionales Múltiples"
      ]
    },
    {
      "cell_type": "code",
      "metadata": {
        "colab": {
          "base_uri": "https://localhost:8080/"
        },
        "id": "BjV30VEPYSJZ",
        "outputId": "184ff845-f325-472a-9e12-835afc234c7e"
      },
      "source": [
        "# Leer un numero y determinar si es positivo, negativo o cero\n",
        "a = int(input(\"Ingrese un número: \"))\n",
        "if(a > 0):\n",
        "  print(\"El número es positivo\")\n",
        "elif (a < 0):\n",
        "    print(\"El numero es negativo\")\n",
        "  else:\n",
        "    print(\"El numero es cero\")\n",
        "\n",
        "print(\"Fin del ejercicio\")"
      ],
      "execution_count": 25,
      "outputs": [
        {
          "output_type": "stream",
          "text": [
            "Ingrese un número: -9\n",
            "El numero es negativo\n",
            "Fin del ejercicio\n"
          ],
          "name": "stdout"
        }
      ]
    },
    {
      "cell_type": "markdown",
      "metadata": {
        "id": "DTk1GrkZa-45"
      },
      "source": [
        "Instrucciones Repetitivas"
      ]
    },
    {
      "cell_type": "code",
      "metadata": {
        "colab": {
          "base_uri": "https://localhost:8080/"
        },
        "id": "9O_JFl6TbBPv",
        "outputId": "ff968f80-b5c3-4bd3-e525-79f2ed61c7e7"
      },
      "source": [
        "#Instrucción while\n",
        "m = 1 \n",
        "while (m <= 10):\n",
        "  print(m)\n",
        "  m = m + 1"
      ],
      "execution_count": 26,
      "outputs": [
        {
          "output_type": "stream",
          "text": [
            "1\n",
            "2\n",
            "3\n",
            "4\n",
            "5\n",
            "6\n",
            "7\n",
            "8\n",
            "9\n",
            "10\n"
          ],
          "name": "stdout"
        }
      ]
    },
    {
      "cell_type": "code",
      "metadata": {
        "colab": {
          "base_uri": "https://localhost:8080/"
        },
        "id": "CQHTR6Vfbv-H",
        "outputId": "9ca5957d-5217-4b75-db73-558d46d40062"
      },
      "source": [
        "# Asignación multiple\n",
        "suma, n = 0, 1\n",
        "#Instrucción while controlado por contador\n",
        "while (n <= 10):\n",
        "  suma = suma + n \n",
        "  n = n + 1\n",
        "print(\"La suma de los numeros es: \", suma)"
      ],
      "execution_count": 27,
      "outputs": [
        {
          "output_type": "stream",
          "text": [
            "La suma de los numeros es:  55\n"
          ],
          "name": "stdout"
        }
      ]
    },
    {
      "cell_type": "code",
      "metadata": {
        "colab": {
          "base_uri": "https://localhost:8080/"
        },
        "id": "Q1600_nLcu5g",
        "outputId": "25b29294-3e74-4a78-fb20-8128ab6c93f1"
      },
      "source": [
        "#Instrucción while controlado por centinela (evento)\n",
        "#Leer las notas de un estudiante y calcular el promedio. La lectura finaliza con -1\n",
        "promedio, suma, contador = 0.0, 0.0, 0.0\n",
        "nota= float(input(\"Ingrese la nota del estudiante (-1 para salir)\"))\n",
        "while (nota != -1):\n",
        "  suma += nota\n",
        "  contador += 1\n",
        "  nota= float(input(\"Ingrese la nota del estudiante (-1 para salir)\"))\n",
        "\n",
        "promedio = suma / contador\n",
        "print(\"El promedio de las notas es: \", promedio)"
      ],
      "execution_count": 29,
      "outputs": [
        {
          "output_type": "stream",
          "text": [
            "Ingrese la nota del estudiante (-1 para salir)4\n",
            "Ingrese la nota del estudiante (-1 para salir)5\n",
            "Ingrese la nota del estudiante (-1 para salir)2\n",
            "Ingrese la nota del estudiante (-1 para salir)-1\n",
            "El promedio de las notas es:  3.6666666666666665\n"
          ],
          "name": "stdout"
        }
      ]
    },
    {
      "cell_type": "code",
      "metadata": {
        "colab": {
          "base_uri": "https://localhost:8080/"
        },
        "id": "Mtcgc6freh3O",
        "outputId": "d12e9182-38bf-4de3-94ba-cbb9169b0116"
      },
      "source": [
        "#Instrucción while controlado por centinela (evento) con else\n",
        "#Leer las notas de un estudiante y calcular el promedio. La lectura finaliza con -1\n",
        "promedio, suma, contador = 0.0, 0.0, 0.0\n",
        "nota= float(input(\"Ingrese la nota del estudiante (-1 para salir)\"))\n",
        "while (nota != -1):\n",
        "  suma += nota\n",
        "  contador += 1\n",
        "  nota= float(input(\"Ingrese la nota del estudiante (-1 para salir)\"))\n",
        "else:\n",
        "  promedio = suma / contador\n",
        "  print(\"El promedio de las notas es: \", promedio)"
      ],
      "execution_count": 30,
      "outputs": [
        {
          "output_type": "stream",
          "text": [
            "Ingrese la nota del estudiante (-1 para salir)4\n",
            "Ingrese la nota del estudiante (-1 para salir)5\n",
            "Ingrese la nota del estudiante (-1 para salir)2\n",
            "Ingrese la nota del estudiante (-1 para salir)-1\n",
            "El promedio de las notas es:  3.6666666666666665\n"
          ],
          "name": "stdout"
        }
      ]
    },
    {
      "cell_type": "markdown",
      "metadata": {
        "id": "9DaAoQiXe5a8"
      },
      "source": [
        ""
      ]
    },
    {
      "cell_type": "markdown",
      "metadata": {
        "id": "0QFJIufsfDIA"
      },
      "source": [
        "Instrucción repetitiva for"
      ]
    },
    {
      "cell_type": "code",
      "metadata": {
        "colab": {
          "base_uri": "https://localhost:8080/"
        },
        "id": "6Dl36CnRfGTK",
        "outputId": "91274d58-c644-4152-f60f-59d4211d8a21"
      },
      "source": [
        "#La fumión range (x) genera una lista de x valores ordenados de 1 en 1\n",
        "for i in range(10):\n",
        "  print(i)"
      ],
      "execution_count": 31,
      "outputs": [
        {
          "output_type": "stream",
          "text": [
            "0\n",
            "1\n",
            "2\n",
            "3\n",
            "4\n",
            "5\n",
            "6\n",
            "7\n",
            "8\n",
            "9\n"
          ],
          "name": "stdout"
        }
      ]
    },
    {
      "cell_type": "code",
      "metadata": {
        "colab": {
          "base_uri": "https://localhost:8080/"
        },
        "id": "5jkLPS9xgL7V",
        "outputId": "99a8e357-b63d-4c94-8fca-ba7c079553dc"
      },
      "source": [
        "lista = (0, 1, 2, 3, 4)\n",
        "for i in lista:\n",
        "  print(i)"
      ],
      "execution_count": 32,
      "outputs": [
        {
          "output_type": "stream",
          "text": [
            "0\n",
            "1\n",
            "2\n",
            "3\n",
            "4\n"
          ],
          "name": "stdout"
        }
      ]
    },
    {
      "cell_type": "code",
      "metadata": {
        "colab": {
          "base_uri": "https://localhost:8080/"
        },
        "id": "D02Od_PchCIL",
        "outputId": "744c8ff7-76b2-4799-a50c-096ad684e921"
      },
      "source": [
        "lista = [2, 'perro', True, 3.1416, 5]\n",
        "for i in lista:\n",
        "  print(i)"
      ],
      "execution_count": 33,
      "outputs": [
        {
          "output_type": "stream",
          "text": [
            "2\n",
            "perro\n",
            "True\n",
            "3.1416\n",
            "5\n"
          ],
          "name": "stdout"
        }
      ]
    },
    {
      "cell_type": "code",
      "metadata": {
        "colab": {
          "base_uri": "https://localhost:8080/"
        },
        "id": "8BfYcEANhXZN",
        "outputId": "dbf5be4f-3bb6-4eba-fea5-832c5889b254"
      },
      "source": [
        "lista = [2, 10, 25]\n",
        "suma = 0\n",
        "for i in lista:\n",
        "  suma += i\n",
        "\n",
        "print(\"Suma: \", suma)\n",
        "\n",
        "cantidad = len(lista)\n",
        "print(\"Promedio: \", suma / cantidad)"
      ],
      "execution_count": 34,
      "outputs": [
        {
          "output_type": "stream",
          "text": [
            "Suma:  37\n",
            "Promedio:  12.333333333333334\n"
          ],
          "name": "stdout"
        }
      ]
    },
    {
      "cell_type": "markdown",
      "metadata": {
        "id": "d2puZu-kQWRv"
      },
      "source": [
        ""
      ]
    }
  ]
}